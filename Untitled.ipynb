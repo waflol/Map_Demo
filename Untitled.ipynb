{
 "cells": [
  {
   "cell_type": "code",
   "execution_count": 1,
   "id": "5aacf72d",
   "metadata": {},
   "outputs": [
    {
     "name": "stdout",
     "output_type": "stream",
     "text": [
      "Python version: \n",
      "3.8.12 (default, Oct 12 2021, 03:01:40) [MSC v.1916 64 bit (AMD64)]\n"
     ]
    }
   ],
   "source": [
    "import sys\n",
    "\n",
    "print(\"Python version: \")\n",
    "print(sys.version)\n",
    "\n",
    "if (sys.version_info[0] < 3):\n",
    "    raise Exception(\"ERROR: ML-Agents Toolkit requires Python 3\")"
   ]
  },
  {
   "cell_type": "code",
   "execution_count": 2,
   "id": "215c4c62",
   "metadata": {},
   "outputs": [
    {
     "data": {
      "text/plain": [
       "<module 'mlagents' from 'C:\\\\Users\\\\Admins\\\\anaconda3\\\\envs\\\\UnityAI\\\\lib\\\\site-packages\\\\mlagents\\\\__init__.py'>"
      ]
     },
     "execution_count": 2,
     "metadata": {},
     "output_type": "execute_result"
    }
   ],
   "source": [
    "import mlagents\n",
    "mlagents"
   ]
  },
  {
   "cell_type": "code",
   "execution_count": 3,
   "id": "44f12596",
   "metadata": {},
   "outputs": [
    {
     "ename": "UnityEnvironmentException",
     "evalue": "Couldn't launch the F:/Map_Demo/Map_training/Map1.x86_64 environment. Provided filename does not match any environments.",
     "output_type": "error",
     "traceback": [
      "\u001b[1;31m---------------------------------------------------------------------------\u001b[0m",
      "\u001b[1;31mUnityEnvironmentException\u001b[0m                 Traceback (most recent call last)",
      "\u001b[1;32m~\\AppData\\Local\\Temp/ipykernel_30232/2787287620.py\u001b[0m in \u001b[0;36m<module>\u001b[1;34m\u001b[0m\n\u001b[0;32m      1\u001b[0m \u001b[1;32mfrom\u001b[0m \u001b[0mmlagents_envs\u001b[0m\u001b[1;33m.\u001b[0m\u001b[0menvironment\u001b[0m \u001b[1;32mimport\u001b[0m \u001b[0mUnityEnvironment\u001b[0m\u001b[1;33m\u001b[0m\u001b[1;33m\u001b[0m\u001b[0m\n\u001b[0;32m      2\u001b[0m \u001b[1;33m\u001b[0m\u001b[0m\n\u001b[1;32m----> 3\u001b[1;33m \u001b[0menv\u001b[0m \u001b[1;33m=\u001b[0m \u001b[0mUnityEnvironment\u001b[0m\u001b[1;33m(\u001b[0m\u001b[1;34m\"F:/Map_Demo/Map_training/Map1.x86_64\"\u001b[0m\u001b[1;33m)\u001b[0m\u001b[1;33m\u001b[0m\u001b[1;33m\u001b[0m\u001b[0m\n\u001b[0m",
      "\u001b[1;32m~\\anaconda3\\envs\\UnityAI\\lib\\site-packages\\mlagents_envs\\environment.py\u001b[0m in \u001b[0;36m__init__\u001b[1;34m(self, file_name, worker_id, base_port, seed, no_graphics, timeout_wait, args, side_channels)\u001b[0m\n\u001b[0;32m    196\u001b[0m             )\n\u001b[0;32m    197\u001b[0m         \u001b[1;32mif\u001b[0m \u001b[0mfile_name\u001b[0m \u001b[1;32mis\u001b[0m \u001b[1;32mnot\u001b[0m \u001b[1;32mNone\u001b[0m\u001b[1;33m:\u001b[0m\u001b[1;33m\u001b[0m\u001b[1;33m\u001b[0m\u001b[0m\n\u001b[1;32m--> 198\u001b[1;33m             \u001b[0mself\u001b[0m\u001b[1;33m.\u001b[0m\u001b[0mexecutable_launcher\u001b[0m\u001b[1;33m(\u001b[0m\u001b[0mfile_name\u001b[0m\u001b[1;33m,\u001b[0m \u001b[0mno_graphics\u001b[0m\u001b[1;33m,\u001b[0m \u001b[0margs\u001b[0m\u001b[1;33m)\u001b[0m\u001b[1;33m\u001b[0m\u001b[1;33m\u001b[0m\u001b[0m\n\u001b[0m\u001b[0;32m    199\u001b[0m         \u001b[1;32melse\u001b[0m\u001b[1;33m:\u001b[0m\u001b[1;33m\u001b[0m\u001b[1;33m\u001b[0m\u001b[0m\n\u001b[0;32m    200\u001b[0m             logger.info(\n",
      "\u001b[1;32m~\\anaconda3\\envs\\UnityAI\\lib\\site-packages\\mlagents_envs\\environment.py\u001b[0m in \u001b[0;36mexecutable_launcher\u001b[1;34m(self, file_name, no_graphics, args)\u001b[0m\n\u001b[0;32m    301\u001b[0m         \u001b[1;32mif\u001b[0m \u001b[0mlaunch_string\u001b[0m \u001b[1;32mis\u001b[0m \u001b[1;32mNone\u001b[0m\u001b[1;33m:\u001b[0m\u001b[1;33m\u001b[0m\u001b[1;33m\u001b[0m\u001b[0m\n\u001b[0;32m    302\u001b[0m             \u001b[0mself\u001b[0m\u001b[1;33m.\u001b[0m\u001b[0m_close\u001b[0m\u001b[1;33m(\u001b[0m\u001b[1;36m0\u001b[0m\u001b[1;33m)\u001b[0m\u001b[1;33m\u001b[0m\u001b[1;33m\u001b[0m\u001b[0m\n\u001b[1;32m--> 303\u001b[1;33m             raise UnityEnvironmentException(\n\u001b[0m\u001b[0;32m    304\u001b[0m                 \u001b[1;34mf\"Couldn't launch the {file_name} environment. Provided filename does not match any environments.\"\u001b[0m\u001b[1;33m\u001b[0m\u001b[1;33m\u001b[0m\u001b[0m\n\u001b[0;32m    305\u001b[0m             )\n",
      "\u001b[1;31mUnityEnvironmentException\u001b[0m: Couldn't launch the F:/Map_Demo/Map_training/Map1.x86_64 environment. Provided filename does not match any environments."
     ]
    }
   ],
   "source": [
    "from mlagents_envs.environment import UnityEnvironment\n",
    "\n",
    "env = UnityEnvironment(\"F:/Map_Demo/Map_training/Map1.x86_64\")"
   ]
  },
  {
   "cell_type": "code",
   "execution_count": 3,
   "id": "8686de8c",
   "metadata": {},
   "outputs": [
    {
     "name": "stdout",
     "output_type": "stream",
     "text": [
      "\n",
      "\n",
      "\tUnity Technologies\n",
      "\n",
      " Version information:\n",
      "  ml-agents: 0.16.1,\n",
      "  ml-agents-envs: 0.16.1,\n",
      "  Communicator API: 1.0.0,\n",
      "  TensorFlow: 2.7.0\n"
     ]
    },
    {
     "name": "stderr",
     "output_type": "stream",
     "text": [
      "WARNING:tensorflow:From C:\\Users\\Admins\\anaconda3\\envs\\UnityAI\\lib\\site-packages\\tensorflow\\python\\compat\\v2_compat.py:111: disable_resource_variables (from tensorflow.python.ops.variable_scope) is deprecated and will be removed in a future version.\n",
      "Instructions for updating:\n",
      "non-resource variables are not supported in the long term\n",
      "Traceback (most recent call last):\n",
      "  File \"C:\\Users\\Admins\\anaconda3\\envs\\UnityAI\\lib\\runpy.py\", line 194, in _run_module_as_main\n",
      "    return _run_code(code, main_globals, None,\n",
      "  File \"C:\\Users\\Admins\\anaconda3\\envs\\UnityAI\\lib\\runpy.py\", line 87, in _run_code\n",
      "    exec(code, run_globals)\n",
      "  File \"C:\\Users\\Admins\\anaconda3\\envs\\UnityAI\\Scripts\\mlagents-learn.exe\\__main__.py\", line 7, in <module>\n",
      "  File \"C:\\Users\\Admins\\anaconda3\\envs\\UnityAI\\lib\\site-packages\\mlagents\\trainers\\learn.py\", line 554, in main\n",
      "    run_cli(parse_command_line())\n",
      "  File \"C:\\Users\\Admins\\anaconda3\\envs\\UnityAI\\lib\\site-packages\\mlagents\\trainers\\learn.py\", line 550, in run_cli\n",
      "    run_training(run_seed, options)\n",
      "  File \"C:\\Users\\Admins\\anaconda3\\envs\\UnityAI\\lib\\site-packages\\mlagents\\trainers\\learn.py\", line 360, in run_training\n",
      "    env_factory = create_environment_factory(\n",
      "  File \"C:\\Users\\Admins\\anaconda3\\envs\\UnityAI\\lib\\site-packages\\mlagents\\trainers\\learn.py\", line 469, in create_environment_factory\n",
      "    raise UnityEnvironmentException(\n",
      "mlagents_envs.exception.UnityEnvironmentException: Couldn't launch the env environment. Provided filename does not match any environments.\n"
     ]
    }
   ],
   "source": [
    "!mlagents-learn kart_mg_trainer_config.yaml --env=env --run-id=\"test\""
   ]
  },
  {
   "cell_type": "code",
   "execution_count": null,
   "id": "bbc99a43",
   "metadata": {},
   "outputs": [],
   "source": []
  }
 ],
 "metadata": {
  "kernelspec": {
   "display_name": "Python 3 (ipykernel)",
   "language": "python",
   "name": "python3"
  },
  "language_info": {
   "codemirror_mode": {
    "name": "ipython",
    "version": 3
   },
   "file_extension": ".py",
   "mimetype": "text/x-python",
   "name": "python",
   "nbconvert_exporter": "python",
   "pygments_lexer": "ipython3",
   "version": "3.8.12"
  }
 },
 "nbformat": 4,
 "nbformat_minor": 5
}
